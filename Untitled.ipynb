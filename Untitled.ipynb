{
 "cells": [
  {
   "cell_type": "code",
   "execution_count": 12,
   "metadata": {},
   "outputs": [
    {
     "data": {
      "text/plain": [
       "False"
      ]
     },
     "execution_count": 12,
     "metadata": {},
     "output_type": "execute_result"
    }
   ],
   "source": [
    "arr = [3, 34, 4, 12, 5, 2]\n",
    "\n",
    "def rec_subset(arr, i, s):\n",
    "    if s == 0:\n",
    "        return True\n",
    "    elif i == 0:\n",
    "        return arr[0] == s\n",
    "    elif arr[i] > s:\n",
    "        return rec_subset(arr, i-1, s)\n",
    "    else:\n",
    "        A = rec_subset(arr, i-1, s-arr[i])\n",
    "        B = rec_subset(arr, i-1, s)\n",
    "        return A or B\n",
    "rec_subset(arr, len(arr)-1, 13)"
   ]
  },
  {
   "cell_type": "code",
   "execution_count": null,
   "metadata": {},
   "outputs": [],
   "source": []
  }
 ],
 "metadata": {
  "kernelspec": {
   "display_name": "Python 3",
   "language": "python",
   "name": "python3"
  },
  "language_info": {
   "codemirror_mode": {
    "name": "ipython",
    "version": 3
   },
   "file_extension": ".py",
   "mimetype": "text/x-python",
   "name": "python",
   "nbconvert_exporter": "python",
   "pygments_lexer": "ipython3",
   "version": "3.8.0"
  }
 },
 "nbformat": 4,
 "nbformat_minor": 2
}
